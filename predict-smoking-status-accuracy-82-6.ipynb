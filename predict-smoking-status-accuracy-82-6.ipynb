{
 "cells": [
  {
   "cell_type": "markdown",
   "id": "5665b71b",
   "metadata": {
    "papermill": {
     "duration": 0.039866,
     "end_time": "2022-05-11T16:17:43.099494",
     "exception": false,
     "start_time": "2022-05-11T16:17:43.059628",
     "status": "completed"
    },
    "tags": []
   },
   "source": [
    "\n",
    "# Introduction 😃😃😃\n",
    "\n",
    "## Smoking Status & Prediction Dataset\n",
    "\n",
    "- A dataset for Body signal of smoking\n",
    "\n",
    "\n",
    "### About Dataset\n",
    "\n",
    "##### This dataset is a collection of basic health biological signal data.\n",
    "\n",
    "- The goal is to determine the presence or absence of smoking through bio-signals.\n",
    "\n",
    "- The dataset is divided into type.\n",
    "\n",
    "#### columns\n",
    "##### data shape : (55692, 27)\n",
    "\n",
    "- ID : index\n",
    "- gender\n",
    "- age : 5-years gap\n",
    "- height(cm)\n",
    "- weight(kg)\n",
    "- waist(cm) : Waist circumference length\n",
    "- eyesight(left)\n",
    "- eyesight(right)\n",
    "- hearing(left)\n",
    "- hearing(right)\n",
    "- systolic : Blood pressure\n",
    "- relaxation : Blood pressure\n",
    "- fasting blood sugar\n",
    "- Cholesterol : total\n",
    "- triglyceride\n",
    "- HDL : cholesterol type\n",
    "- LDL : cholesterol type\n",
    "- hemoglobin\n",
    "- Urine protein\n",
    "- serum creatinine\n",
    "- AST : glutamic oxaloacetic transaminase type\n",
    "- ALT : glutamic oxaloacetic transaminase type\n",
    "- Gtp : γ-GTP\n",
    "- oral : Oral Examination status\n",
    "- dental caries\n",
    "- tartar : tartar status\n",
    "- smoking : 0 or 1\n",
    "\n",
    "\n",
    "# Work plan 🤝🤝🤝🤝🤝\n",
    "\n",
    "- 1- Data Exploration & Analysis 🤝🤝🤝\n",
    "- 2- Building a Machine Learning Model / classification score Volume\n",
    "\n",
    "\n",
    "# Data Exploration & Analysis 🤝🤝🤝\n"
   ]
  },
  {
   "cell_type": "code",
   "execution_count": 1,
   "id": "08e75da2",
   "metadata": {
    "execution": {
     "iopub.execute_input": "2022-05-11T16:17:43.177678Z",
     "iopub.status.busy": "2022-05-11T16:17:43.177146Z",
     "iopub.status.idle": "2022-05-11T16:17:45.366731Z",
     "shell.execute_reply": "2022-05-11T16:17:45.365768Z"
    },
    "papermill": {
     "duration": 2.230932,
     "end_time": "2022-05-11T16:17:45.369283",
     "exception": false,
     "start_time": "2022-05-11T16:17:43.138351",
     "status": "completed"
    },
    "tags": []
   },
   "outputs": [],
   "source": [
    "#Importing the basic librarires fot analysis\n",
    "\n",
    "import numpy as np\n",
    "import pandas as pd\n",
    "import seaborn as sns\n",
    "import matplotlib.pyplot as plt\n",
    "plt.style.use(\"ggplot\")  #using style ggplot\n",
    "\n",
    "%matplotlib inline\n",
    "import plotly.graph_objects as go\n",
    "import plotly.express as px"
   ]
  },
  {
   "cell_type": "code",
   "execution_count": 2,
   "id": "eed112d9",
   "metadata": {
    "execution": {
     "iopub.execute_input": "2022-05-11T16:17:45.447191Z",
     "iopub.status.busy": "2022-05-11T16:17:45.446744Z",
     "iopub.status.idle": "2022-05-11T16:17:45.832166Z",
     "shell.execute_reply": "2022-05-11T16:17:45.831335Z"
    },
    "papermill": {
     "duration": 0.427514,
     "end_time": "2022-05-11T16:17:45.835102",
     "exception": false,
     "start_time": "2022-05-11T16:17:45.407588",
     "status": "completed"
    },
    "tags": []
   },
   "outputs": [
    {
     "data": {
      "text/html": [
       "<div>\n",
       "<style scoped>\n",
       "    .dataframe tbody tr th:only-of-type {\n",
       "        vertical-align: middle;\n",
       "    }\n",
       "\n",
       "    .dataframe tbody tr th {\n",
       "        vertical-align: top;\n",
       "    }\n",
       "\n",
       "    .dataframe thead th {\n",
       "        text-align: right;\n",
       "    }\n",
       "</style>\n",
       "<table border=\"1\" class=\"dataframe\">\n",
       "  <thead>\n",
       "    <tr style=\"text-align: right;\">\n",
       "      <th></th>\n",
       "      <th>ID</th>\n",
       "      <th>gender</th>\n",
       "      <th>age</th>\n",
       "      <th>height(cm)</th>\n",
       "      <th>weight(kg)</th>\n",
       "      <th>waist(cm)</th>\n",
       "      <th>eyesight(left)</th>\n",
       "      <th>eyesight(right)</th>\n",
       "      <th>hearing(left)</th>\n",
       "      <th>hearing(right)</th>\n",
       "      <th>...</th>\n",
       "      <th>hemoglobin</th>\n",
       "      <th>Urine protein</th>\n",
       "      <th>serum creatinine</th>\n",
       "      <th>AST</th>\n",
       "      <th>ALT</th>\n",
       "      <th>Gtp</th>\n",
       "      <th>oral</th>\n",
       "      <th>dental caries</th>\n",
       "      <th>tartar</th>\n",
       "      <th>smoking</th>\n",
       "    </tr>\n",
       "  </thead>\n",
       "  <tbody>\n",
       "    <tr>\n",
       "      <th>0</th>\n",
       "      <td>0</td>\n",
       "      <td>F</td>\n",
       "      <td>40</td>\n",
       "      <td>155</td>\n",
       "      <td>60</td>\n",
       "      <td>81.3</td>\n",
       "      <td>1.2</td>\n",
       "      <td>1.0</td>\n",
       "      <td>1.0</td>\n",
       "      <td>1.0</td>\n",
       "      <td>...</td>\n",
       "      <td>12.9</td>\n",
       "      <td>1.0</td>\n",
       "      <td>0.7</td>\n",
       "      <td>18.0</td>\n",
       "      <td>19.0</td>\n",
       "      <td>27.0</td>\n",
       "      <td>Y</td>\n",
       "      <td>0</td>\n",
       "      <td>Y</td>\n",
       "      <td>0</td>\n",
       "    </tr>\n",
       "    <tr>\n",
       "      <th>1</th>\n",
       "      <td>1</td>\n",
       "      <td>F</td>\n",
       "      <td>40</td>\n",
       "      <td>160</td>\n",
       "      <td>60</td>\n",
       "      <td>81.0</td>\n",
       "      <td>0.8</td>\n",
       "      <td>0.6</td>\n",
       "      <td>1.0</td>\n",
       "      <td>1.0</td>\n",
       "      <td>...</td>\n",
       "      <td>12.7</td>\n",
       "      <td>1.0</td>\n",
       "      <td>0.6</td>\n",
       "      <td>22.0</td>\n",
       "      <td>19.0</td>\n",
       "      <td>18.0</td>\n",
       "      <td>Y</td>\n",
       "      <td>0</td>\n",
       "      <td>Y</td>\n",
       "      <td>0</td>\n",
       "    </tr>\n",
       "    <tr>\n",
       "      <th>2</th>\n",
       "      <td>2</td>\n",
       "      <td>M</td>\n",
       "      <td>55</td>\n",
       "      <td>170</td>\n",
       "      <td>60</td>\n",
       "      <td>80.0</td>\n",
       "      <td>0.8</td>\n",
       "      <td>0.8</td>\n",
       "      <td>1.0</td>\n",
       "      <td>1.0</td>\n",
       "      <td>...</td>\n",
       "      <td>15.8</td>\n",
       "      <td>1.0</td>\n",
       "      <td>1.0</td>\n",
       "      <td>21.0</td>\n",
       "      <td>16.0</td>\n",
       "      <td>22.0</td>\n",
       "      <td>Y</td>\n",
       "      <td>0</td>\n",
       "      <td>N</td>\n",
       "      <td>1</td>\n",
       "    </tr>\n",
       "    <tr>\n",
       "      <th>3</th>\n",
       "      <td>3</td>\n",
       "      <td>M</td>\n",
       "      <td>40</td>\n",
       "      <td>165</td>\n",
       "      <td>70</td>\n",
       "      <td>88.0</td>\n",
       "      <td>1.5</td>\n",
       "      <td>1.5</td>\n",
       "      <td>1.0</td>\n",
       "      <td>1.0</td>\n",
       "      <td>...</td>\n",
       "      <td>14.7</td>\n",
       "      <td>1.0</td>\n",
       "      <td>1.0</td>\n",
       "      <td>19.0</td>\n",
       "      <td>26.0</td>\n",
       "      <td>18.0</td>\n",
       "      <td>Y</td>\n",
       "      <td>0</td>\n",
       "      <td>Y</td>\n",
       "      <td>0</td>\n",
       "    </tr>\n",
       "    <tr>\n",
       "      <th>4</th>\n",
       "      <td>4</td>\n",
       "      <td>F</td>\n",
       "      <td>40</td>\n",
       "      <td>155</td>\n",
       "      <td>60</td>\n",
       "      <td>86.0</td>\n",
       "      <td>1.0</td>\n",
       "      <td>1.0</td>\n",
       "      <td>1.0</td>\n",
       "      <td>1.0</td>\n",
       "      <td>...</td>\n",
       "      <td>12.5</td>\n",
       "      <td>1.0</td>\n",
       "      <td>0.6</td>\n",
       "      <td>16.0</td>\n",
       "      <td>14.0</td>\n",
       "      <td>22.0</td>\n",
       "      <td>Y</td>\n",
       "      <td>0</td>\n",
       "      <td>N</td>\n",
       "      <td>0</td>\n",
       "    </tr>\n",
       "  </tbody>\n",
       "</table>\n",
       "<p>5 rows × 27 columns</p>\n",
       "</div>"
      ],
      "text/plain": [
       "   ID gender  age  height(cm)  weight(kg)  waist(cm)  eyesight(left)  \\\n",
       "0   0      F   40         155          60       81.3             1.2   \n",
       "1   1      F   40         160          60       81.0             0.8   \n",
       "2   2      M   55         170          60       80.0             0.8   \n",
       "3   3      M   40         165          70       88.0             1.5   \n",
       "4   4      F   40         155          60       86.0             1.0   \n",
       "\n",
       "   eyesight(right)  hearing(left)  hearing(right)  ...  hemoglobin  \\\n",
       "0              1.0            1.0             1.0  ...        12.9   \n",
       "1              0.6            1.0             1.0  ...        12.7   \n",
       "2              0.8            1.0             1.0  ...        15.8   \n",
       "3              1.5            1.0             1.0  ...        14.7   \n",
       "4              1.0            1.0             1.0  ...        12.5   \n",
       "\n",
       "   Urine protein  serum creatinine   AST   ALT   Gtp  oral  dental caries  \\\n",
       "0            1.0               0.7  18.0  19.0  27.0     Y              0   \n",
       "1            1.0               0.6  22.0  19.0  18.0     Y              0   \n",
       "2            1.0               1.0  21.0  16.0  22.0     Y              0   \n",
       "3            1.0               1.0  19.0  26.0  18.0     Y              0   \n",
       "4            1.0               0.6  16.0  14.0  22.0     Y              0   \n",
       "\n",
       "   tartar  smoking  \n",
       "0       Y        0  \n",
       "1       Y        0  \n",
       "2       N        1  \n",
       "3       Y        0  \n",
       "4       N        0  \n",
       "\n",
       "[5 rows x 27 columns]"
      ]
     },
     "execution_count": 2,
     "metadata": {},
     "output_type": "execute_result"
    }
   ],
   "source": [
    "#Importing the dataset\n",
    "df =pd.read_csv(\"../input/body-signal-of-smoking/smoking.csv\")\n",
    "\n",
    "\n",
    "# look the data set\n",
    "df.head()"
   ]
  },
  {
   "cell_type": "code",
   "execution_count": 3,
   "id": "1f33f2eb",
   "metadata": {
    "execution": {
     "iopub.execute_input": "2022-05-11T16:17:45.918590Z",
     "iopub.status.busy": "2022-05-11T16:17:45.918150Z",
     "iopub.status.idle": "2022-05-11T16:17:45.923509Z",
     "shell.execute_reply": "2022-05-11T16:17:45.922789Z"
    },
    "papermill": {
     "duration": 0.049037,
     "end_time": "2022-05-11T16:17:45.925360",
     "exception": false,
     "start_time": "2022-05-11T16:17:45.876323",
     "status": "completed"
    },
    "tags": []
   },
   "outputs": [
    {
     "data": {
      "text/plain": [
       "(55692, 27)"
      ]
     },
     "execution_count": 3,
     "metadata": {},
     "output_type": "execute_result"
    }
   ],
   "source": [
    "# looking the shape DataSet\n",
    "df.shape"
   ]
  },
  {
   "cell_type": "code",
   "execution_count": 4,
   "id": "b7596e17",
   "metadata": {
    "execution": {
     "iopub.execute_input": "2022-05-11T16:17:46.004482Z",
     "iopub.status.busy": "2022-05-11T16:17:46.004065Z",
     "iopub.status.idle": "2022-05-11T16:17:46.048482Z",
     "shell.execute_reply": "2022-05-11T16:17:46.047593Z"
    },
    "papermill": {
     "duration": 0.087161,
     "end_time": "2022-05-11T16:17:46.051208",
     "exception": false,
     "start_time": "2022-05-11T16:17:45.964047",
     "status": "completed"
    },
    "tags": []
   },
   "outputs": [
    {
     "name": "stdout",
     "output_type": "stream",
     "text": [
      "<class 'pandas.core.frame.DataFrame'>\n",
      "RangeIndex: 55692 entries, 0 to 55691\n",
      "Data columns (total 27 columns):\n",
      " #   Column               Non-Null Count  Dtype  \n",
      "---  ------               --------------  -----  \n",
      " 0   ID                   55692 non-null  int64  \n",
      " 1   gender               55692 non-null  object \n",
      " 2   age                  55692 non-null  int64  \n",
      " 3   height(cm)           55692 non-null  int64  \n",
      " 4   weight(kg)           55692 non-null  int64  \n",
      " 5   waist(cm)            55692 non-null  float64\n",
      " 6   eyesight(left)       55692 non-null  float64\n",
      " 7   eyesight(right)      55692 non-null  float64\n",
      " 8   hearing(left)        55692 non-null  float64\n",
      " 9   hearing(right)       55692 non-null  float64\n",
      " 10  systolic             55692 non-null  float64\n",
      " 11  relaxation           55692 non-null  float64\n",
      " 12  fasting blood sugar  55692 non-null  float64\n",
      " 13  Cholesterol          55692 non-null  float64\n",
      " 14  triglyceride         55692 non-null  float64\n",
      " 15  HDL                  55692 non-null  float64\n",
      " 16  LDL                  55692 non-null  float64\n",
      " 17  hemoglobin           55692 non-null  float64\n",
      " 18  Urine protein        55692 non-null  float64\n",
      " 19  serum creatinine     55692 non-null  float64\n",
      " 20  AST                  55692 non-null  float64\n",
      " 21  ALT                  55692 non-null  float64\n",
      " 22  Gtp                  55692 non-null  float64\n",
      " 23  oral                 55692 non-null  object \n",
      " 24  dental caries        55692 non-null  int64  \n",
      " 25  tartar               55692 non-null  object \n",
      " 26  smoking              55692 non-null  int64  \n",
      "dtypes: float64(18), int64(6), object(3)\n",
      "memory usage: 11.5+ MB\n"
     ]
    }
   ],
   "source": [
    "#Checking the dtypes of all the columns\n",
    "\n",
    "df.info()"
   ]
  },
  {
   "cell_type": "code",
   "execution_count": 5,
   "id": "89b3d770",
   "metadata": {
    "execution": {
     "iopub.execute_input": "2022-05-11T16:17:46.134523Z",
     "iopub.status.busy": "2022-05-11T16:17:46.134041Z",
     "iopub.status.idle": "2022-05-11T16:17:46.165803Z",
     "shell.execute_reply": "2022-05-11T16:17:46.165256Z"
    },
    "papermill": {
     "duration": 0.076487,
     "end_time": "2022-05-11T16:17:46.168454",
     "exception": false,
     "start_time": "2022-05-11T16:17:46.091967",
     "status": "completed"
    },
    "tags": []
   },
   "outputs": [
    {
     "name": "stdout",
     "output_type": "stream",
     "text": [
      "<class 'pandas.core.frame.DataFrame'>\n",
      "RangeIndex: 55692 entries, 0 to 55691\n",
      "Data columns (total 27 columns):\n",
      " #   Column               Non-Null Count  Dtype  \n",
      "---  ------               --------------  -----  \n",
      " 0   ID                   55692 non-null  int64  \n",
      " 1   gender               55692 non-null  object \n",
      " 2   age                  55692 non-null  int64  \n",
      " 3   height(cm)           55692 non-null  int64  \n",
      " 4   weight(kg)           55692 non-null  int64  \n",
      " 5   waist(cm)            55692 non-null  float64\n",
      " 6   eyesight(left)       55692 non-null  float64\n",
      " 7   eyesight(right)      55692 non-null  float64\n",
      " 8   hearing(left)        55692 non-null  float64\n",
      " 9   hearing(right)       55692 non-null  float64\n",
      " 10  systolic             55692 non-null  float64\n",
      " 11  relaxation           55692 non-null  float64\n",
      " 12  fasting blood sugar  55692 non-null  float64\n",
      " 13  Cholesterol          55692 non-null  float64\n",
      " 14  triglyceride         55692 non-null  float64\n",
      " 15  HDL                  55692 non-null  float64\n",
      " 16  LDL                  55692 non-null  float64\n",
      " 17  hemoglobin           55692 non-null  float64\n",
      " 18  Urine protein        55692 non-null  float64\n",
      " 19  serum creatinine     55692 non-null  float64\n",
      " 20  AST                  55692 non-null  float64\n",
      " 21  ALT                  55692 non-null  float64\n",
      " 22  Gtp                  55692 non-null  float64\n",
      " 23  oral                 55692 non-null  object \n",
      " 24  dental caries        55692 non-null  int64  \n",
      " 25  tartar               55692 non-null  object \n",
      " 26  smoking              55692 non-null  int64  \n",
      "dtypes: float64(18), int64(6), object(3)\n",
      "memory usage: 11.5+ MB\n"
     ]
    }
   ],
   "source": [
    "#Checking the dtypes of all the columns\n",
    "\n",
    "df.info()"
   ]
  },
  {
   "cell_type": "markdown",
   "id": "644ef996",
   "metadata": {
    "papermill": {
     "duration": 0.039393,
     "end_time": "2022-05-11T16:17:46.247643",
     "exception": false,
     "start_time": "2022-05-11T16:17:46.208250",
     "status": "completed"
    },
    "tags": []
   },
   "source": [
    "- No any missing value"
   ]
  },
  {
   "cell_type": "code",
   "execution_count": 6,
   "id": "bdd236a3",
   "metadata": {
    "execution": {
     "iopub.execute_input": "2022-05-11T16:17:46.329500Z",
     "iopub.status.busy": "2022-05-11T16:17:46.328925Z",
     "iopub.status.idle": "2022-05-11T16:17:46.465494Z",
     "shell.execute_reply": "2022-05-11T16:17:46.464679Z"
    },
    "papermill": {
     "duration": 0.179866,
     "end_time": "2022-05-11T16:17:46.467615",
     "exception": false,
     "start_time": "2022-05-11T16:17:46.287749",
     "status": "completed"
    },
    "tags": []
   },
   "outputs": [
    {
     "data": {
      "text/html": [
       "<div>\n",
       "<style scoped>\n",
       "    .dataframe tbody tr th:only-of-type {\n",
       "        vertical-align: middle;\n",
       "    }\n",
       "\n",
       "    .dataframe tbody tr th {\n",
       "        vertical-align: top;\n",
       "    }\n",
       "\n",
       "    .dataframe thead th {\n",
       "        text-align: right;\n",
       "    }\n",
       "</style>\n",
       "<table border=\"1\" class=\"dataframe\">\n",
       "  <thead>\n",
       "    <tr style=\"text-align: right;\">\n",
       "      <th></th>\n",
       "      <th>ID</th>\n",
       "      <th>age</th>\n",
       "      <th>height(cm)</th>\n",
       "      <th>weight(kg)</th>\n",
       "      <th>waist(cm)</th>\n",
       "      <th>eyesight(left)</th>\n",
       "      <th>eyesight(right)</th>\n",
       "      <th>hearing(left)</th>\n",
       "      <th>hearing(right)</th>\n",
       "      <th>systolic</th>\n",
       "      <th>...</th>\n",
       "      <th>HDL</th>\n",
       "      <th>LDL</th>\n",
       "      <th>hemoglobin</th>\n",
       "      <th>Urine protein</th>\n",
       "      <th>serum creatinine</th>\n",
       "      <th>AST</th>\n",
       "      <th>ALT</th>\n",
       "      <th>Gtp</th>\n",
       "      <th>dental caries</th>\n",
       "      <th>smoking</th>\n",
       "    </tr>\n",
       "  </thead>\n",
       "  <tbody>\n",
       "    <tr>\n",
       "      <th>count</th>\n",
       "      <td>55692.00</td>\n",
       "      <td>55692.00</td>\n",
       "      <td>55692.00</td>\n",
       "      <td>55692.00</td>\n",
       "      <td>55692.00</td>\n",
       "      <td>55692.00</td>\n",
       "      <td>55692.00</td>\n",
       "      <td>55692.00</td>\n",
       "      <td>55692.00</td>\n",
       "      <td>55692.00</td>\n",
       "      <td>...</td>\n",
       "      <td>55692.00</td>\n",
       "      <td>55692.00</td>\n",
       "      <td>55692.00</td>\n",
       "      <td>55692.00</td>\n",
       "      <td>55692.00</td>\n",
       "      <td>55692.00</td>\n",
       "      <td>55692.00</td>\n",
       "      <td>55692.00</td>\n",
       "      <td>55692.00</td>\n",
       "      <td>55692.00</td>\n",
       "    </tr>\n",
       "    <tr>\n",
       "      <th>mean</th>\n",
       "      <td>27845.50</td>\n",
       "      <td>44.18</td>\n",
       "      <td>164.65</td>\n",
       "      <td>65.86</td>\n",
       "      <td>82.05</td>\n",
       "      <td>1.01</td>\n",
       "      <td>1.01</td>\n",
       "      <td>1.03</td>\n",
       "      <td>1.03</td>\n",
       "      <td>121.49</td>\n",
       "      <td>...</td>\n",
       "      <td>57.29</td>\n",
       "      <td>114.96</td>\n",
       "      <td>14.62</td>\n",
       "      <td>1.09</td>\n",
       "      <td>0.89</td>\n",
       "      <td>26.18</td>\n",
       "      <td>27.04</td>\n",
       "      <td>39.95</td>\n",
       "      <td>0.21</td>\n",
       "      <td>0.37</td>\n",
       "    </tr>\n",
       "    <tr>\n",
       "      <th>std</th>\n",
       "      <td>16077.04</td>\n",
       "      <td>12.07</td>\n",
       "      <td>9.19</td>\n",
       "      <td>12.82</td>\n",
       "      <td>9.27</td>\n",
       "      <td>0.49</td>\n",
       "      <td>0.49</td>\n",
       "      <td>0.16</td>\n",
       "      <td>0.16</td>\n",
       "      <td>13.68</td>\n",
       "      <td>...</td>\n",
       "      <td>14.74</td>\n",
       "      <td>40.93</td>\n",
       "      <td>1.56</td>\n",
       "      <td>0.40</td>\n",
       "      <td>0.22</td>\n",
       "      <td>19.36</td>\n",
       "      <td>30.95</td>\n",
       "      <td>50.29</td>\n",
       "      <td>0.41</td>\n",
       "      <td>0.48</td>\n",
       "    </tr>\n",
       "    <tr>\n",
       "      <th>min</th>\n",
       "      <td>0.00</td>\n",
       "      <td>20.00</td>\n",
       "      <td>130.00</td>\n",
       "      <td>30.00</td>\n",
       "      <td>51.00</td>\n",
       "      <td>0.10</td>\n",
       "      <td>0.10</td>\n",
       "      <td>1.00</td>\n",
       "      <td>1.00</td>\n",
       "      <td>71.00</td>\n",
       "      <td>...</td>\n",
       "      <td>4.00</td>\n",
       "      <td>1.00</td>\n",
       "      <td>4.90</td>\n",
       "      <td>1.00</td>\n",
       "      <td>0.10</td>\n",
       "      <td>6.00</td>\n",
       "      <td>1.00</td>\n",
       "      <td>1.00</td>\n",
       "      <td>0.00</td>\n",
       "      <td>0.00</td>\n",
       "    </tr>\n",
       "    <tr>\n",
       "      <th>25%</th>\n",
       "      <td>13922.75</td>\n",
       "      <td>40.00</td>\n",
       "      <td>160.00</td>\n",
       "      <td>55.00</td>\n",
       "      <td>76.00</td>\n",
       "      <td>0.80</td>\n",
       "      <td>0.80</td>\n",
       "      <td>1.00</td>\n",
       "      <td>1.00</td>\n",
       "      <td>112.00</td>\n",
       "      <td>...</td>\n",
       "      <td>47.00</td>\n",
       "      <td>92.00</td>\n",
       "      <td>13.60</td>\n",
       "      <td>1.00</td>\n",
       "      <td>0.80</td>\n",
       "      <td>19.00</td>\n",
       "      <td>15.00</td>\n",
       "      <td>17.00</td>\n",
       "      <td>0.00</td>\n",
       "      <td>0.00</td>\n",
       "    </tr>\n",
       "    <tr>\n",
       "      <th>50%</th>\n",
       "      <td>27845.50</td>\n",
       "      <td>40.00</td>\n",
       "      <td>165.00</td>\n",
       "      <td>65.00</td>\n",
       "      <td>82.00</td>\n",
       "      <td>1.00</td>\n",
       "      <td>1.00</td>\n",
       "      <td>1.00</td>\n",
       "      <td>1.00</td>\n",
       "      <td>120.00</td>\n",
       "      <td>...</td>\n",
       "      <td>55.00</td>\n",
       "      <td>113.00</td>\n",
       "      <td>14.80</td>\n",
       "      <td>1.00</td>\n",
       "      <td>0.90</td>\n",
       "      <td>23.00</td>\n",
       "      <td>21.00</td>\n",
       "      <td>25.00</td>\n",
       "      <td>0.00</td>\n",
       "      <td>0.00</td>\n",
       "    </tr>\n",
       "    <tr>\n",
       "      <th>75%</th>\n",
       "      <td>41768.25</td>\n",
       "      <td>55.00</td>\n",
       "      <td>170.00</td>\n",
       "      <td>75.00</td>\n",
       "      <td>88.00</td>\n",
       "      <td>1.20</td>\n",
       "      <td>1.20</td>\n",
       "      <td>1.00</td>\n",
       "      <td>1.00</td>\n",
       "      <td>130.00</td>\n",
       "      <td>...</td>\n",
       "      <td>66.00</td>\n",
       "      <td>136.00</td>\n",
       "      <td>15.80</td>\n",
       "      <td>1.00</td>\n",
       "      <td>1.00</td>\n",
       "      <td>28.00</td>\n",
       "      <td>31.00</td>\n",
       "      <td>43.00</td>\n",
       "      <td>0.00</td>\n",
       "      <td>1.00</td>\n",
       "    </tr>\n",
       "    <tr>\n",
       "      <th>max</th>\n",
       "      <td>55691.00</td>\n",
       "      <td>85.00</td>\n",
       "      <td>190.00</td>\n",
       "      <td>135.00</td>\n",
       "      <td>129.00</td>\n",
       "      <td>9.90</td>\n",
       "      <td>9.90</td>\n",
       "      <td>2.00</td>\n",
       "      <td>2.00</td>\n",
       "      <td>240.00</td>\n",
       "      <td>...</td>\n",
       "      <td>618.00</td>\n",
       "      <td>1860.00</td>\n",
       "      <td>21.10</td>\n",
       "      <td>6.00</td>\n",
       "      <td>11.60</td>\n",
       "      <td>1311.00</td>\n",
       "      <td>2914.00</td>\n",
       "      <td>999.00</td>\n",
       "      <td>1.00</td>\n",
       "      <td>1.00</td>\n",
       "    </tr>\n",
       "  </tbody>\n",
       "</table>\n",
       "<p>8 rows × 24 columns</p>\n",
       "</div>"
      ],
      "text/plain": [
       "             ID       age  height(cm)  weight(kg)  waist(cm)  eyesight(left)  \\\n",
       "count  55692.00  55692.00    55692.00    55692.00   55692.00        55692.00   \n",
       "mean   27845.50     44.18      164.65       65.86      82.05            1.01   \n",
       "std    16077.04     12.07        9.19       12.82       9.27            0.49   \n",
       "min        0.00     20.00      130.00       30.00      51.00            0.10   \n",
       "25%    13922.75     40.00      160.00       55.00      76.00            0.80   \n",
       "50%    27845.50     40.00      165.00       65.00      82.00            1.00   \n",
       "75%    41768.25     55.00      170.00       75.00      88.00            1.20   \n",
       "max    55691.00     85.00      190.00      135.00     129.00            9.90   \n",
       "\n",
       "       eyesight(right)  hearing(left)  hearing(right)  systolic  ...  \\\n",
       "count         55692.00       55692.00        55692.00  55692.00  ...   \n",
       "mean              1.01           1.03            1.03    121.49  ...   \n",
       "std               0.49           0.16            0.16     13.68  ...   \n",
       "min               0.10           1.00            1.00     71.00  ...   \n",
       "25%               0.80           1.00            1.00    112.00  ...   \n",
       "50%               1.00           1.00            1.00    120.00  ...   \n",
       "75%               1.20           1.00            1.00    130.00  ...   \n",
       "max               9.90           2.00            2.00    240.00  ...   \n",
       "\n",
       "            HDL       LDL  hemoglobin  Urine protein  serum creatinine  \\\n",
       "count  55692.00  55692.00    55692.00       55692.00          55692.00   \n",
       "mean      57.29    114.96       14.62           1.09              0.89   \n",
       "std       14.74     40.93        1.56           0.40              0.22   \n",
       "min        4.00      1.00        4.90           1.00              0.10   \n",
       "25%       47.00     92.00       13.60           1.00              0.80   \n",
       "50%       55.00    113.00       14.80           1.00              0.90   \n",
       "75%       66.00    136.00       15.80           1.00              1.00   \n",
       "max      618.00   1860.00       21.10           6.00             11.60   \n",
       "\n",
       "            AST       ALT       Gtp  dental caries   smoking  \n",
       "count  55692.00  55692.00  55692.00       55692.00  55692.00  \n",
       "mean      26.18     27.04     39.95           0.21      0.37  \n",
       "std       19.36     30.95     50.29           0.41      0.48  \n",
       "min        6.00      1.00      1.00           0.00      0.00  \n",
       "25%       19.00     15.00     17.00           0.00      0.00  \n",
       "50%       23.00     21.00     25.00           0.00      0.00  \n",
       "75%       28.00     31.00     43.00           0.00      1.00  \n",
       "max     1311.00   2914.00    999.00           1.00      1.00  \n",
       "\n",
       "[8 rows x 24 columns]"
      ]
     },
     "execution_count": 6,
     "metadata": {},
     "output_type": "execute_result"
    }
   ],
   "source": [
    "# look  describe data set\n",
    "df.describe().round(2)"
   ]
  },
  {
   "cell_type": "code",
   "execution_count": 7,
   "id": "de5f617d",
   "metadata": {
    "execution": {
     "iopub.execute_input": "2022-05-11T16:17:46.552211Z",
     "iopub.status.busy": "2022-05-11T16:17:46.551637Z",
     "iopub.status.idle": "2022-05-11T16:17:46.591652Z",
     "shell.execute_reply": "2022-05-11T16:17:46.590849Z"
    },
    "papermill": {
     "duration": 0.085028,
     "end_time": "2022-05-11T16:17:46.593721",
     "exception": false,
     "start_time": "2022-05-11T16:17:46.508693",
     "status": "completed"
    },
    "tags": []
   },
   "outputs": [
    {
     "data": {
      "text/plain": [
       "oral                       1\n",
       "smoking                    2\n",
       "gender                     2\n",
       "dental caries              2\n",
       "hearing(left)              2\n",
       "hearing(right)             2\n",
       "tartar                     2\n",
       "Urine protein              6\n",
       "height(cm)                13\n",
       "age                       14\n",
       "eyesight(right)           17\n",
       "eyesight(left)            19\n",
       "weight(kg)                22\n",
       "serum creatinine          38\n",
       "relaxation                95\n",
       "HDL                      126\n",
       "systolic                 130\n",
       "hemoglobin               145\n",
       "AST                      219\n",
       "ALT                      245\n",
       "fasting blood sugar      276\n",
       "Cholesterol              286\n",
       "LDL                      289\n",
       "triglyceride             390\n",
       "Gtp                      488\n",
       "waist(cm)                566\n",
       "ID                     55692\n",
       "dtype: int64"
      ]
     },
     "execution_count": 7,
     "metadata": {},
     "output_type": "execute_result"
    }
   ],
   "source": [
    "# check unique value\n",
    "df.nunique().sort_values()"
   ]
  },
  {
   "cell_type": "markdown",
   "id": "60e439da",
   "metadata": {
    "papermill": {
     "duration": 0.040505,
     "end_time": "2022-05-11T16:17:46.675458",
     "exception": false,
     "start_time": "2022-05-11T16:17:46.634953",
     "status": "completed"
    },
    "tags": []
   },
   "source": [
    "# Some of Visualisations"
   ]
  },
  {
   "cell_type": "code",
   "execution_count": 8,
   "id": "71eec591",
   "metadata": {
    "execution": {
     "iopub.execute_input": "2022-05-11T16:17:46.761115Z",
     "iopub.status.busy": "2022-05-11T16:17:46.760550Z",
     "iopub.status.idle": "2022-05-11T16:17:47.023968Z",
     "shell.execute_reply": "2022-05-11T16:17:47.023106Z"
    },
    "papermill": {
     "duration": 0.308539,
     "end_time": "2022-05-11T16:17:47.026317",
     "exception": false,
     "start_time": "2022-05-11T16:17:46.717778",
     "status": "completed"
    },
    "tags": []
   },
   "outputs": [
    {
     "data": {
      "text/plain": [
       "<AxesSubplot:ylabel='gender'>"
      ]
     },
     "execution_count": 8,
     "metadata": {},
     "output_type": "execute_result"
    },
    {
     "data": {
      "image/png": "[encoded data removed]",
      "text/plain": [
       "<Figure size 432x288 with 1 Axes>"
      ]
     },
     "metadata": {},
     "output_type": "display_data"
    }
   ],
   "source": [
    "# how much percentage Gender in the dataset\n",
    "\n",
    "df['gender'].value_counts().plot.pie(explode=[0,0.1],autopct='%1.1f%%',shadow=True)"
   ]
  },
  {
   "cell_type": "markdown",
   "id": "ca8e1488",
   "metadata": {
    "papermill": {
     "duration": 0.043143,
     "end_time": "2022-05-11T16:17:47.113090",
     "exception": false,
     "start_time": "2022-05-11T16:17:47.069947",
     "status": "completed"
    },
    "tags": []
   },
   "source": [
    "#### The percentage gender in the dataset:\n",
    "- Female = 36.4%\n",
    "- Male =63.6 %"
   ]
  },
  {
   "cell_type": "code",
   "execution_count": 9,
   "id": "ac80aade",
   "metadata": {
    "execution": {
     "iopub.execute_input": "2022-05-11T16:17:47.203690Z",
     "iopub.status.busy": "2022-05-11T16:17:47.203277Z",
     "iopub.status.idle": "2022-05-11T16:17:47.308013Z",
     "shell.execute_reply": "2022-05-11T16:17:47.307102Z"
    },
    "papermill": {
     "duration": 0.153682,
     "end_time": "2022-05-11T16:17:47.310137",
     "exception": false,
     "start_time": "2022-05-11T16:17:47.156455",
     "status": "completed"
    },
    "tags": []
   },
   "outputs": [
    {
     "data": {
      "text/plain": [
       "<AxesSubplot:ylabel='smoking'>"
      ]
     },
     "execution_count": 9,
     "metadata": {},
     "output_type": "execute_result"
    },
    {
     "data": {
      "image/png": "[encoded data removed]",
      "text/plain": [
       "<Figure size 432x288 with 1 Axes>"
      ]
     },
     "metadata": {},
     "output_type": "display_data"
    }
   ],
   "source": [
    "# how much percentage smoking  in the dataset\n",
    "\n",
    "df['smoking'].value_counts().plot.pie(explode=[0,0.1],autopct='%1.1f%%',shadow=True)"
   ]
  },
  {
   "cell_type": "markdown",
   "id": "ee3ed92b",
   "metadata": {
    "papermill": {
     "duration": 0.045549,
     "end_time": "2022-05-11T16:17:47.401035",
     "exception": false,
     "start_time": "2022-05-11T16:17:47.355486",
     "status": "completed"
    },
    "tags": []
   },
   "source": [
    "#### The percentage gender in the dataset:\n",
    "- Non-smoking = 63.3%\n",
    "- Smoking =36.7 %"
   ]
  },
  {
   "cell_type": "code",
   "execution_count": 10,
   "id": "cb9d7ce0",
   "metadata": {
    "execution": {
     "iopub.execute_input": "2022-05-11T16:17:47.492086Z",
     "iopub.status.busy": "2022-05-11T16:17:47.491548Z",
     "iopub.status.idle": "2022-05-11T16:17:47.592412Z",
     "shell.execute_reply": "2022-05-11T16:17:47.591846Z"
    },
    "papermill": {
     "duration": 0.148762,
     "end_time": "2022-05-11T16:17:47.594428",
     "exception": false,
     "start_time": "2022-05-11T16:17:47.445666",
     "status": "completed"
    },
    "tags": []
   },
   "outputs": [
    {
     "data": {
      "image/png": "[encoded data removed]",
      "text/plain": [
       "<Figure size 432x288 with 1 Axes>"
      ]
     },
     "metadata": {
      "needs_background": "light"
     },
     "output_type": "display_data"
    }
   ],
   "source": [
    "# boxplot for show describe age \n",
    "\n",
    "plt.boxplot(df[\"age\"])\n",
    "plt.show()"
   ]
  },
  {
   "cell_type": "markdown",
   "id": "68026e99",
   "metadata": {
    "papermill": {
     "duration": 0.044983,
     "end_time": "2022-05-11T16:17:47.684528",
     "exception": false,
     "start_time": "2022-05-11T16:17:47.639545",
     "status": "completed"
    },
    "tags": []
   },
   "source": [
    "#### Describe age :\n",
    "- mean =       44\n",
    "- min   =      20\n",
    "- max    =     85"
   ]
  },
  {
   "cell_type": "code",
   "execution_count": 11,
   "id": "95e24081",
   "metadata": {
    "execution": {
     "iopub.execute_input": "2022-05-11T16:17:47.776877Z",
     "iopub.status.busy": "2022-05-11T16:17:47.776341Z",
     "iopub.status.idle": "2022-05-11T16:17:47.876488Z",
     "shell.execute_reply": "2022-05-11T16:17:47.875884Z"
    },
    "papermill": {
     "duration": 0.148747,
     "end_time": "2022-05-11T16:17:47.878398",
     "exception": false,
     "start_time": "2022-05-11T16:17:47.729651",
     "status": "completed"
    },
    "tags": []
   },
   "outputs": [
    {
     "data": {
      "image/png": "[encoded data removed]",
      "text/plain": [
       "<Figure size 432x288 with 1 Axes>"
      ]
     },
     "metadata": {
      "needs_background": "light"
     },
     "output_type": "display_data"
    }
   ],
   "source": [
    "# boxplot for show describe height \n",
    "\n",
    "plt.boxplot(df[\"height(cm)\"])\n",
    "plt.show()"
   ]
  },
  {
   "cell_type": "markdown",
   "id": "e01996f3",
   "metadata": {
    "papermill": {
     "duration": 0.046065,
     "end_time": "2022-05-11T16:17:47.970619",
     "exception": false,
     "start_time": "2022-05-11T16:17:47.924554",
     "status": "completed"
    },
    "tags": []
   },
   "source": [
    "#### Describe height- cm :\n",
    "- mean=        164\n",
    "- min  =       130\n",
    "- max   =     190"
   ]
  },
  {
   "cell_type": "code",
   "execution_count": 12,
   "id": "0c851b51",
   "metadata": {
    "execution": {
     "iopub.execute_input": "2022-05-11T16:17:48.063292Z",
     "iopub.status.busy": "2022-05-11T16:17:48.063003Z",
     "iopub.status.idle": "2022-05-11T16:17:48.159938Z",
     "shell.execute_reply": "2022-05-11T16:17:48.159098Z"
    },
    "papermill": {
     "duration": 0.147007,
     "end_time": "2022-05-11T16:17:48.163268",
     "exception": false,
     "start_time": "2022-05-11T16:17:48.016261",
     "status": "completed"
    },
    "tags": []
   },
   "outputs": [
    {
     "data": {
      "image/png": "[encoded data removed]",
      "text/plain": [
       "<Figure size 432x288 with 1 Axes>"
      ]
     },
     "metadata": {
      "needs_background": "light"
     },
     "output_type": "display_data"
    }
   ],
   "source": [
    "# boxplot for show describe weight \n",
    "\n",
    "plt.boxplot(df[\"weight(kg)\"])\n",
    "plt.show()"
   ]
  },
  {
   "cell_type": "markdown",
   "id": "fdafaf24",
   "metadata": {
    "papermill": {
     "duration": 0.047781,
     "end_time": "2022-05-11T16:17:48.281883",
     "exception": false,
     "start_time": "2022-05-11T16:17:48.234102",
     "status": "completed"
    },
    "tags": []
   },
   "source": [
    "#### Describe weight(kg) :\n",
    "- mean= 65\n",
    "- min = 30\n",
    "- max = 135"
   ]
  },
  {
   "cell_type": "code",
   "execution_count": 13,
   "id": "f398cdd6",
   "metadata": {
    "execution": {
     "iopub.execute_input": "2022-05-11T16:17:48.375417Z",
     "iopub.status.busy": "2022-05-11T16:17:48.375132Z",
     "iopub.status.idle": "2022-05-11T16:17:48.384926Z",
     "shell.execute_reply": "2022-05-11T16:17:48.384291Z"
    },
    "papermill": {
     "duration": 0.058503,
     "end_time": "2022-05-11T16:17:48.386598",
     "exception": false,
     "start_time": "2022-05-11T16:17:48.328095",
     "status": "completed"
    },
    "tags": []
   },
   "outputs": [
    {
     "data": {
      "text/plain": [
       "smoking\n",
       "0    45.677981\n",
       "1    41.607431\n",
       "Name: age, dtype: float64"
      ]
     },
     "execution_count": 13,
     "metadata": {},
     "output_type": "execute_result"
    }
   ],
   "source": [
    "#make groupby to show the average age smoking\n",
    "\n",
    "ag=df.groupby(\"smoking\")[\"age\"].mean()\n",
    "ag"
   ]
  },
  {
   "cell_type": "code",
   "execution_count": 14,
   "id": "9b4fb67c",
   "metadata": {
    "execution": {
     "iopub.execute_input": "2022-05-11T16:17:48.481736Z",
     "iopub.status.busy": "2022-05-11T16:17:48.481234Z",
     "iopub.status.idle": "2022-05-11T16:17:48.586657Z",
     "shell.execute_reply": "2022-05-11T16:17:48.585741Z"
    },
    "papermill": {
     "duration": 0.157275,
     "end_time": "2022-05-11T16:17:48.590451",
     "exception": false,
     "start_time": "2022-05-11T16:17:48.433176",
     "status": "completed"
    },
    "tags": []
   },
   "outputs": [
    {
     "data": {
      "text/plain": [
       "<AxesSubplot:ylabel='age'>"
      ]
     },
     "execution_count": 14,
     "metadata": {},
     "output_type": "execute_result"
    },
    {
     "data": {
      "image/png": "[encoded data removed]",
      "text/plain": [
       "<Figure size 432x288 with 1 Axes>"
      ]
     },
     "metadata": {},
     "output_type": "display_data"
    }
   ],
   "source": [
    "# graph average age smoking\n",
    "ag.plot(kind=\"pie\",explode=[0,0.1],autopct='%1.1f%%',shadow=True)"
   ]
  },
  {
   "cell_type": "markdown",
   "id": "327cbcdc",
   "metadata": {
    "papermill": {
     "duration": 0.048803,
     "end_time": "2022-05-11T16:17:48.727542",
     "exception": false,
     "start_time": "2022-05-11T16:17:48.678739",
     "status": "completed"
    },
    "tags": []
   },
   "source": [
    "#### The average age smoking\n",
    "- age 45 = non- somkign\n",
    "- age 41 = somking"
   ]
  },
  {
   "cell_type": "code",
   "execution_count": 15,
   "id": "6412b223",
   "metadata": {
    "execution": {
     "iopub.execute_input": "2022-05-11T16:17:48.824978Z",
     "iopub.status.busy": "2022-05-11T16:17:48.824676Z",
     "iopub.status.idle": "2022-05-11T16:17:48.850714Z",
     "shell.execute_reply": "2022-05-11T16:17:48.849557Z"
    },
    "papermill": {
     "duration": 0.076877,
     "end_time": "2022-05-11T16:17:48.852833",
     "exception": false,
     "start_time": "2022-05-11T16:17:48.775956",
     "status": "completed"
    },
    "tags": []
   },
   "outputs": [
    {
     "name": "stderr",
     "output_type": "stream",
     "text": [
      "/opt/conda/lib/python3.7/site-packages/ipykernel_launcher.py:3: FutureWarning: Indexing with multiple keys (implicitly converted to a tuple of keys) will be deprecated, use a list instead.\n",
      "  This is separate from the ipykernel package so we can avoid doing imports until\n"
     ]
    },
    {
     "data": {
      "text/html": [
       "<div>\n",
       "<style scoped>\n",
       "    .dataframe tbody tr th:only-of-type {\n",
       "        vertical-align: middle;\n",
       "    }\n",
       "\n",
       "    .dataframe tbody tr th {\n",
       "        vertical-align: top;\n",
       "    }\n",
       "\n",
       "    .dataframe thead th {\n",
       "        text-align: right;\n",
       "    }\n",
       "</style>\n",
       "<table border=\"1\" class=\"dataframe\">\n",
       "  <thead>\n",
       "    <tr style=\"text-align: right;\">\n",
       "      <th></th>\n",
       "      <th></th>\n",
       "      <th>age</th>\n",
       "      <th>weight(kg)</th>\n",
       "      <th>height(cm)</th>\n",
       "    </tr>\n",
       "    <tr>\n",
       "      <th>gender</th>\n",
       "      <th>smoking</th>\n",
       "      <th></th>\n",
       "      <th></th>\n",
       "      <th></th>\n",
       "    </tr>\n",
       "  </thead>\n",
       "  <tbody>\n",
       "    <tr>\n",
       "      <th rowspan=\"2\" valign=\"top\">F</th>\n",
       "      <th>0</th>\n",
       "      <td>49.0</td>\n",
       "      <td>56.0</td>\n",
       "      <td>156.0</td>\n",
       "    </tr>\n",
       "    <tr>\n",
       "      <th>1</th>\n",
       "      <td>46.0</td>\n",
       "      <td>56.0</td>\n",
       "      <td>157.0</td>\n",
       "    </tr>\n",
       "    <tr>\n",
       "      <th rowspan=\"2\" valign=\"top\">M</th>\n",
       "      <th>0</th>\n",
       "      <td>42.0</td>\n",
       "      <td>71.0</td>\n",
       "      <td>170.0</td>\n",
       "    </tr>\n",
       "    <tr>\n",
       "      <th>1</th>\n",
       "      <td>41.0</td>\n",
       "      <td>72.0</td>\n",
       "      <td>170.0</td>\n",
       "    </tr>\n",
       "  </tbody>\n",
       "</table>\n",
       "</div>"
      ],
      "text/plain": [
       "                 age  weight(kg)  height(cm)\n",
       "gender smoking                              \n",
       "F      0        49.0        56.0       156.0\n",
       "       1        46.0        56.0       157.0\n",
       "M      0        42.0        71.0       170.0\n",
       "       1        41.0        72.0       170.0"
      ]
     },
     "execution_count": 15,
     "metadata": {},
     "output_type": "execute_result"
    }
   ],
   "source": [
    "# group by for show the average age , weight and height by the gender\n",
    "\n",
    "summary=df.groupby([\"gender\",\"smoking\"])[\"age\",\"weight(kg)\",\"height(cm)\"].mean().round(0)\n",
    "summary"
   ]
  },
  {
   "cell_type": "code",
   "execution_count": 16,
   "id": "b124f15c",
   "metadata": {
    "execution": {
     "iopub.execute_input": "2022-05-11T16:17:48.952178Z",
     "iopub.status.busy": "2022-05-11T16:17:48.951617Z",
     "iopub.status.idle": "2022-05-11T16:17:49.225617Z",
     "shell.execute_reply": "2022-05-11T16:17:49.224759Z"
    },
    "papermill": {
     "duration": 0.325999,
     "end_time": "2022-05-11T16:17:49.227752",
     "exception": false,
     "start_time": "2022-05-11T16:17:48.901753",
     "status": "completed"
    },
    "tags": []
   },
   "outputs": [
    {
     "data": {
      "text/plain": [
       "<AxesSubplot:xlabel='gender,smoking'>"
      ]
     },
     "execution_count": 16,
     "metadata": {},
     "output_type": "execute_result"
    },
    {
     "data": {
      "image/png": "[encoded data removed]",
      "text/plain": [
       "<Figure size 1080x504 with 1 Axes>"
      ]
     },
     "metadata": {
      "needs_background": "light"
     },
     "output_type": "display_data"
    }
   ],
   "source": [
    "# graph the group by\n",
    "\n",
    "summary.plot(kind=\"bar\",figsize=(15,7))"
   ]
  },
  {
   "cell_type": "markdown",
   "id": "1e86ecd7",
   "metadata": {
    "papermill": {
     "duration": 0.050921,
     "end_time": "2022-05-11T16:17:49.328883",
     "exception": false,
     "start_time": "2022-05-11T16:17:49.277962",
     "status": "completed"
    },
    "tags": []
   },
   "source": [
    "# Analysis Results 🙉🙈🙊\n",
    "\n",
    "#### From my point view , I see the important columns :\n",
    "- Gender ,  smoking ,  age , weight(kg) , height(cm) \n",
    "\n",
    "#### After make some analysis , visual graph and explore the data set , I see some results .\n",
    "\n",
    "\n",
    "#### The shape DataSet\n",
    "- Rows= 55692 ,  Columns =  27\n",
    "\n",
    "\n",
    "#### The percentage gender in the dataset:\n",
    "- Female = 36.4%\n",
    "- Male =63.6 %\n",
    "\n",
    "\n",
    "#### The percentage gender in the dataset:\n",
    "- Non-smoking = 63.3%\n",
    "- Smoking =36.7 %\n",
    "\n",
    "\n",
    "#### Describe age :\n",
    "- mean = 44\n",
    "- min = 20\n",
    "- max = 85\n",
    "\n",
    "\n",
    "#### Describe height- cm :\n",
    "- mean= 164\n",
    "- min = 130\n",
    "- max = 190\n",
    "\n",
    "\n",
    "#### Describe weight(kg) :\n",
    "- mean= 65\n",
    "- min = 30\n",
    "- max = 135\n",
    "\n",
    "\n",
    "#### The average age smoking\n",
    "- age 45 = non- somkign\n",
    "- age 41 = somking\n",
    "\n",
    "\n",
    "### The average data\n",
    "\n",
    "#### Female\n",
    "- somking avg /> age= 46 ,weght =56 kg ,height 157 cm\n",
    "- non-somking ave / >age= 49 ,weght =56 kg ,height 165 cm\n",
    "\n",
    "\n",
    "#### Male\n",
    "- somking avg /> age= 41 ,weght =72 kg ,height 170 cm\n",
    "- non-somking ave / >age= 42 ,weght =71 kg ,height 170 cm"
   ]
  },
  {
   "cell_type": "markdown",
   "id": "265b6595",
   "metadata": {
    "papermill": {
     "duration": 0.05078,
     "end_time": "2022-05-11T16:17:49.430049",
     "exception": false,
     "start_time": "2022-05-11T16:17:49.379269",
     "status": "completed"
    },
    "tags": []
   },
   "source": [
    "# Building a Machine Learning Model / classification score Volume"
   ]
  },
  {
   "cell_type": "code",
   "execution_count": 17,
   "id": "612f5538",
   "metadata": {
    "execution": {
     "iopub.execute_input": "2022-05-11T16:17:49.533575Z",
     "iopub.status.busy": "2022-05-11T16:17:49.533034Z",
     "iopub.status.idle": "2022-05-11T16:17:50.031729Z",
     "shell.execute_reply": "2022-05-11T16:17:50.030976Z"
    },
    "papermill": {
     "duration": 0.553426,
     "end_time": "2022-05-11T16:17:50.034091",
     "exception": false,
     "start_time": "2022-05-11T16:17:49.480665",
     "status": "completed"
    },
    "tags": []
   },
   "outputs": [],
   "source": [
    "#Importing the basic librarires for building model - classification\n",
    "\n",
    "from sklearn.model_selection import train_test_split\n",
    "\n",
    "from sklearn.metrics import accuracy_score,r2_score\n",
    "\n",
    "\n",
    "from sklearn.linear_model import LogisticRegression\n",
    "from sklearn.tree import DecisionTreeClassifier\n",
    "from sklearn.neighbors import  KNeighborsClassifier\n",
    "from sklearn.ensemble import RandomForestClassifier\n",
    "from sklearn.neural_network import  MLPClassifier\n",
    "from sklearn.svm import SVC\n",
    "from xgboost import XGBClassifier\n",
    "\n",
    "\n",
    "from sklearn.preprocessing import LabelEncoder\n",
    "from sklearn.inspection import permutation_importance\n"
   ]
  },
  {
   "cell_type": "code",
   "execution_count": 18,
   "id": "51224d98",
   "metadata": {
    "execution": {
     "iopub.execute_input": "2022-05-11T16:17:50.137167Z",
     "iopub.status.busy": "2022-05-11T16:17:50.136896Z",
     "iopub.status.idle": "2022-05-11T16:17:50.164113Z",
     "shell.execute_reply": "2022-05-11T16:17:50.163308Z"
    },
    "papermill": {
     "duration": 0.080507,
     "end_time": "2022-05-11T16:17:50.165934",
     "exception": false,
     "start_time": "2022-05-11T16:17:50.085427",
     "status": "completed"
    },
    "tags": []
   },
   "outputs": [
    {
     "data": {
      "text/html": [
       "<div>\n",
       "<style scoped>\n",
       "    .dataframe tbody tr th:only-of-type {\n",
       "        vertical-align: middle;\n",
       "    }\n",
       "\n",
       "    .dataframe tbody tr th {\n",
       "        vertical-align: top;\n",
       "    }\n",
       "\n",
       "    .dataframe thead th {\n",
       "        text-align: right;\n",
       "    }\n",
       "</style>\n",
       "<table border=\"1\" class=\"dataframe\">\n",
       "  <thead>\n",
       "    <tr style=\"text-align: right;\">\n",
       "      <th></th>\n",
       "      <th>ID</th>\n",
       "      <th>gender</th>\n",
       "      <th>age</th>\n",
       "      <th>height(cm)</th>\n",
       "      <th>weight(kg)</th>\n",
       "      <th>waist(cm)</th>\n",
       "      <th>eyesight(left)</th>\n",
       "      <th>eyesight(right)</th>\n",
       "      <th>hearing(left)</th>\n",
       "      <th>hearing(right)</th>\n",
       "      <th>...</th>\n",
       "      <th>hemoglobin</th>\n",
       "      <th>Urine protein</th>\n",
       "      <th>serum creatinine</th>\n",
       "      <th>AST</th>\n",
       "      <th>ALT</th>\n",
       "      <th>Gtp</th>\n",
       "      <th>oral</th>\n",
       "      <th>dental caries</th>\n",
       "      <th>tartar</th>\n",
       "      <th>smoking</th>\n",
       "    </tr>\n",
       "  </thead>\n",
       "  <tbody>\n",
       "    <tr>\n",
       "      <th>0</th>\n",
       "      <td>0</td>\n",
       "      <td>F</td>\n",
       "      <td>40</td>\n",
       "      <td>155</td>\n",
       "      <td>60</td>\n",
       "      <td>81.3</td>\n",
       "      <td>1.2</td>\n",
       "      <td>1.0</td>\n",
       "      <td>1.0</td>\n",
       "      <td>1.0</td>\n",
       "      <td>...</td>\n",
       "      <td>12.9</td>\n",
       "      <td>1.0</td>\n",
       "      <td>0.7</td>\n",
       "      <td>18.0</td>\n",
       "      <td>19.0</td>\n",
       "      <td>27.0</td>\n",
       "      <td>Y</td>\n",
       "      <td>0</td>\n",
       "      <td>Y</td>\n",
       "      <td>0</td>\n",
       "    </tr>\n",
       "    <tr>\n",
       "      <th>1</th>\n",
       "      <td>1</td>\n",
       "      <td>F</td>\n",
       "      <td>40</td>\n",
       "      <td>160</td>\n",
       "      <td>60</td>\n",
       "      <td>81.0</td>\n",
       "      <td>0.8</td>\n",
       "      <td>0.6</td>\n",
       "      <td>1.0</td>\n",
       "      <td>1.0</td>\n",
       "      <td>...</td>\n",
       "      <td>12.7</td>\n",
       "      <td>1.0</td>\n",
       "      <td>0.6</td>\n",
       "      <td>22.0</td>\n",
       "      <td>19.0</td>\n",
       "      <td>18.0</td>\n",
       "      <td>Y</td>\n",
       "      <td>0</td>\n",
       "      <td>Y</td>\n",
       "      <td>0</td>\n",
       "    </tr>\n",
       "    <tr>\n",
       "      <th>2</th>\n",
       "      <td>2</td>\n",
       "      <td>M</td>\n",
       "      <td>55</td>\n",
       "      <td>170</td>\n",
       "      <td>60</td>\n",
       "      <td>80.0</td>\n",
       "      <td>0.8</td>\n",
       "      <td>0.8</td>\n",
       "      <td>1.0</td>\n",
       "      <td>1.0</td>\n",
       "      <td>...</td>\n",
       "      <td>15.8</td>\n",
       "      <td>1.0</td>\n",
       "      <td>1.0</td>\n",
       "      <td>21.0</td>\n",
       "      <td>16.0</td>\n",
       "      <td>22.0</td>\n",
       "      <td>Y</td>\n",
       "      <td>0</td>\n",
       "      <td>N</td>\n",
       "      <td>1</td>\n",
       "    </tr>\n",
       "    <tr>\n",
       "      <th>3</th>\n",
       "      <td>3</td>\n",
       "      <td>M</td>\n",
       "      <td>40</td>\n",
       "      <td>165</td>\n",
       "      <td>70</td>\n",
       "      <td>88.0</td>\n",
       "      <td>1.5</td>\n",
       "      <td>1.5</td>\n",
       "      <td>1.0</td>\n",
       "      <td>1.0</td>\n",
       "      <td>...</td>\n",
       "      <td>14.7</td>\n",
       "      <td>1.0</td>\n",
       "      <td>1.0</td>\n",
       "      <td>19.0</td>\n",
       "      <td>26.0</td>\n",
       "      <td>18.0</td>\n",
       "      <td>Y</td>\n",
       "      <td>0</td>\n",
       "      <td>Y</td>\n",
       "      <td>0</td>\n",
       "    </tr>\n",
       "    <tr>\n",
       "      <th>4</th>\n",
       "      <td>4</td>\n",
       "      <td>F</td>\n",
       "      <td>40</td>\n",
       "      <td>155</td>\n",
       "      <td>60</td>\n",
       "      <td>86.0</td>\n",
       "      <td>1.0</td>\n",
       "      <td>1.0</td>\n",
       "      <td>1.0</td>\n",
       "      <td>1.0</td>\n",
       "      <td>...</td>\n",
       "      <td>12.5</td>\n",
       "      <td>1.0</td>\n",
       "      <td>0.6</td>\n",
       "      <td>16.0</td>\n",
       "      <td>14.0</td>\n",
       "      <td>22.0</td>\n",
       "      <td>Y</td>\n",
       "      <td>0</td>\n",
       "      <td>N</td>\n",
       "      <td>0</td>\n",
       "    </tr>\n",
       "  </tbody>\n",
       "</table>\n",
       "<p>5 rows × 27 columns</p>\n",
       "</div>"
      ],
      "text/plain": [
       "   ID gender  age  height(cm)  weight(kg)  waist(cm)  eyesight(left)  \\\n",
       "0   0      F   40         155          60       81.3             1.2   \n",
       "1   1      F   40         160          60       81.0             0.8   \n",
       "2   2      M   55         170          60       80.0             0.8   \n",
       "3   3      M   40         165          70       88.0             1.5   \n",
       "4   4      F   40         155          60       86.0             1.0   \n",
       "\n",
       "   eyesight(right)  hearing(left)  hearing(right)  ...  hemoglobin  \\\n",
       "0              1.0            1.0             1.0  ...        12.9   \n",
       "1              0.6            1.0             1.0  ...        12.7   \n",
       "2              0.8            1.0             1.0  ...        15.8   \n",
       "3              1.5            1.0             1.0  ...        14.7   \n",
       "4              1.0            1.0             1.0  ...        12.5   \n",
       "\n",
       "   Urine protein  serum creatinine   AST   ALT   Gtp  oral  dental caries  \\\n",
       "0            1.0               0.7  18.0  19.0  27.0     Y              0   \n",
       "1            1.0               0.6  22.0  19.0  18.0     Y              0   \n",
       "2            1.0               1.0  21.0  16.0  22.0     Y              0   \n",
       "3            1.0               1.0  19.0  26.0  18.0     Y              0   \n",
       "4            1.0               0.6  16.0  14.0  22.0     Y              0   \n",
       "\n",
       "   tartar  smoking  \n",
       "0       Y        0  \n",
       "1       Y        0  \n",
       "2       N        1  \n",
       "3       Y        0  \n",
       "4       N        0  \n",
       "\n",
       "[5 rows x 27 columns]"
      ]
     },
     "execution_count": 18,
     "metadata": {},
     "output_type": "execute_result"
    }
   ],
   "source": [
    "# show the data set\n",
    "df.head()"
   ]
  },
  {
   "cell_type": "code",
   "execution_count": 19,
   "id": "4c4e5eff",
   "metadata": {
    "execution": {
     "iopub.execute_input": "2022-05-11T16:17:50.274629Z",
     "iopub.status.busy": "2022-05-11T16:17:50.274127Z",
     "iopub.status.idle": "2022-05-11T16:17:50.306091Z",
     "shell.execute_reply": "2022-05-11T16:17:50.305226Z"
    },
    "papermill": {
     "duration": 0.088747,
     "end_time": "2022-05-11T16:17:50.308873",
     "exception": false,
     "start_time": "2022-05-11T16:17:50.220126",
     "status": "completed"
    },
    "tags": []
   },
   "outputs": [
    {
     "name": "stdout",
     "output_type": "stream",
     "text": [
      "<class 'pandas.core.frame.DataFrame'>\n",
      "RangeIndex: 55692 entries, 0 to 55691\n",
      "Data columns (total 27 columns):\n",
      " #   Column               Non-Null Count  Dtype  \n",
      "---  ------               --------------  -----  \n",
      " 0   ID                   55692 non-null  int64  \n",
      " 1   gender               55692 non-null  object \n",
      " 2   age                  55692 non-null  int64  \n",
      " 3   height(cm)           55692 non-null  int64  \n",
      " 4   weight(kg)           55692 non-null  int64  \n",
      " 5   waist(cm)            55692 non-null  float64\n",
      " 6   eyesight(left)       55692 non-null  float64\n",
      " 7   eyesight(right)      55692 non-null  float64\n",
      " 8   hearing(left)        55692 non-null  float64\n",
      " 9   hearing(right)       55692 non-null  float64\n",
      " 10  systolic             55692 non-null  float64\n",
      " 11  relaxation           55692 non-null  float64\n",
      " 12  fasting blood sugar  55692 non-null  float64\n",
      " 13  Cholesterol          55692 non-null  float64\n",
      " 14  triglyceride         55692 non-null  float64\n",
      " 15  HDL                  55692 non-null  float64\n",
      " 16  LDL                  55692 non-null  float64\n",
      " 17  hemoglobin           55692 non-null  float64\n",
      " 18  Urine protein        55692 non-null  float64\n",
      " 19  serum creatinine     55692 non-null  float64\n",
      " 20  AST                  55692 non-null  float64\n",
      " 21  ALT                  55692 non-null  float64\n",
      " 22  Gtp                  55692 non-null  float64\n",
      " 23  oral                 55692 non-null  object \n",
      " 24  dental caries        55692 non-null  int64  \n",
      " 25  tartar               55692 non-null  object \n",
      " 26  smoking              55692 non-null  int64  \n",
      "dtypes: float64(18), int64(6), object(3)\n",
      "memory usage: 11.5+ MB\n"
     ]
    }
   ],
   "source": [
    "#show the data type\n",
    "df.info()"
   ]
  },
  {
   "cell_type": "markdown",
   "id": "1de58aac",
   "metadata": {
    "papermill": {
     "duration": 0.050924,
     "end_time": "2022-05-11T16:17:50.412037",
     "exception": false,
     "start_time": "2022-05-11T16:17:50.361113",
     "status": "completed"
    },
    "tags": []
   },
   "source": [
    "- we need change the data type from object to number"
   ]
  },
  {
   "cell_type": "code",
   "execution_count": 20,
   "id": "9a823a84",
   "metadata": {
    "execution": {
     "iopub.execute_input": "2022-05-11T16:17:50.516996Z",
     "iopub.status.busy": "2022-05-11T16:17:50.516640Z",
     "iopub.status.idle": "2022-05-11T16:17:50.574416Z",
     "shell.execute_reply": "2022-05-11T16:17:50.573829Z"
    },
    "papermill": {
     "duration": 0.113331,
     "end_time": "2022-05-11T16:17:50.576510",
     "exception": false,
     "start_time": "2022-05-11T16:17:50.463179",
     "status": "completed"
    },
    "tags": []
   },
   "outputs": [],
   "source": [
    "# change datatype column gender \n",
    "\n",
    "le = LabelEncoder()\n",
    "le.fit(df[\"gender\"])\n",
    "df[\"gender\"]=le.transform(df[\"gender\"])  \n",
    "\n",
    "# change datatype column oral \n",
    "\n",
    "l = LabelEncoder()\n",
    "l.fit(df[\"oral\"])\n",
    "df[\"oral\"]=l.transform(df[\"oral\"])\n",
    "\n",
    "# change datatype column tartar \n",
    "\n",
    "\n",
    "a = LabelEncoder()\n",
    "a.fit(df[\"tartar\"])\n",
    "df[\"tartar\"]=a.transform(df[\"tartar\"])"
   ]
  },
  {
   "cell_type": "code",
   "execution_count": 21,
   "id": "fc972eb0",
   "metadata": {
    "execution": {
     "iopub.execute_input": "2022-05-11T16:17:50.680733Z",
     "iopub.status.busy": "2022-05-11T16:17:50.680186Z",
     "iopub.status.idle": "2022-05-11T16:17:50.697097Z",
     "shell.execute_reply": "2022-05-11T16:17:50.696181Z"
    },
    "papermill": {
     "duration": 0.072676,
     "end_time": "2022-05-11T16:17:50.699958",
     "exception": false,
     "start_time": "2022-05-11T16:17:50.627282",
     "status": "completed"
    },
    "tags": []
   },
   "outputs": [
    {
     "name": "stdout",
     "output_type": "stream",
     "text": [
      "<class 'pandas.core.frame.DataFrame'>\n",
      "RangeIndex: 55692 entries, 0 to 55691\n",
      "Data columns (total 27 columns):\n",
      " #   Column               Non-Null Count  Dtype  \n",
      "---  ------               --------------  -----  \n",
      " 0   ID                   55692 non-null  int64  \n",
      " 1   gender               55692 non-null  int64  \n",
      " 2   age                  55692 non-null  int64  \n",
      " 3   height(cm)           55692 non-null  int64  \n",
      " 4   weight(kg)           55692 non-null  int64  \n",
      " 5   waist(cm)            55692 non-null  float64\n",
      " 6   eyesight(left)       55692 non-null  float64\n",
      " 7   eyesight(right)      55692 non-null  float64\n",
      " 8   hearing(left)        55692 non-null  float64\n",
      " 9   hearing(right)       55692 non-null  float64\n",
      " 10  systolic             55692 non-null  float64\n",
      " 11  relaxation           55692 non-null  float64\n",
      " 12  fasting blood sugar  55692 non-null  float64\n",
      " 13  Cholesterol          55692 non-null  float64\n",
      " 14  triglyceride         55692 non-null  float64\n",
      " 15  HDL                  55692 non-null  float64\n",
      " 16  LDL                  55692 non-null  float64\n",
      " 17  hemoglobin           55692 non-null  float64\n",
      " 18  Urine protein        55692 non-null  float64\n",
      " 19  serum creatinine     55692 non-null  float64\n",
      " 20  AST                  55692 non-null  float64\n",
      " 21  ALT                  55692 non-null  float64\n",
      " 22  Gtp                  55692 non-null  float64\n",
      " 23  oral                 55692 non-null  int64  \n",
      " 24  dental caries        55692 non-null  int64  \n",
      " 25  tartar               55692 non-null  int64  \n",
      " 26  smoking              55692 non-null  int64  \n",
      "dtypes: float64(18), int64(9)\n",
      "memory usage: 11.5 MB\n"
     ]
    }
   ],
   "source": [
    "df.info()"
   ]
  },
  {
   "cell_type": "code",
   "execution_count": 22,
   "id": "6e4c6c47",
   "metadata": {
    "execution": {
     "iopub.execute_input": "2022-05-11T16:17:50.805600Z",
     "iopub.status.busy": "2022-05-11T16:17:50.805338Z",
     "iopub.status.idle": "2022-05-11T16:17:50.819389Z",
     "shell.execute_reply": "2022-05-11T16:17:50.818652Z"
    },
    "papermill": {
     "duration": 0.068875,
     "end_time": "2022-05-11T16:17:50.821488",
     "exception": false,
     "start_time": "2022-05-11T16:17:50.752613",
     "status": "completed"
    },
    "tags": []
   },
   "outputs": [],
   "source": [
    "# drop column ID , I don`t need this column\n",
    "df.drop(columns=\"ID\",inplace=True)"
   ]
  },
  {
   "cell_type": "code",
   "execution_count": 23,
   "id": "393162af",
   "metadata": {
    "execution": {
     "iopub.execute_input": "2022-05-11T16:17:50.926556Z",
     "iopub.status.busy": "2022-05-11T16:17:50.926150Z",
     "iopub.status.idle": "2022-05-11T16:17:50.951132Z",
     "shell.execute_reply": "2022-05-11T16:17:50.950132Z"
    },
    "papermill": {
     "duration": 0.080319,
     "end_time": "2022-05-11T16:17:50.953235",
     "exception": false,
     "start_time": "2022-05-11T16:17:50.872916",
     "status": "completed"
    },
    "tags": []
   },
   "outputs": [
    {
     "data": {
      "text/html": [
       "<div>\n",
       "<style scoped>\n",
       "    .dataframe tbody tr th:only-of-type {\n",
       "        vertical-align: middle;\n",
       "    }\n",
       "\n",
       "    .dataframe tbody tr th {\n",
       "        vertical-align: top;\n",
       "    }\n",
       "\n",
       "    .dataframe thead th {\n",
       "        text-align: right;\n",
       "    }\n",
       "</style>\n",
       "<table border=\"1\" class=\"dataframe\">\n",
       "  <thead>\n",
       "    <tr style=\"text-align: right;\">\n",
       "      <th></th>\n",
       "      <th>gender</th>\n",
       "      <th>age</th>\n",
       "      <th>height(cm)</th>\n",
       "      <th>weight(kg)</th>\n",
       "      <th>waist(cm)</th>\n",
       "      <th>eyesight(left)</th>\n",
       "      <th>eyesight(right)</th>\n",
       "      <th>hearing(left)</th>\n",
       "      <th>hearing(right)</th>\n",
       "      <th>systolic</th>\n",
       "      <th>...</th>\n",
       "      <th>hemoglobin</th>\n",
       "      <th>Urine protein</th>\n",
       "      <th>serum creatinine</th>\n",
       "      <th>AST</th>\n",
       "      <th>ALT</th>\n",
       "      <th>Gtp</th>\n",
       "      <th>oral</th>\n",
       "      <th>dental caries</th>\n",
       "      <th>tartar</th>\n",
       "      <th>smoking</th>\n",
       "    </tr>\n",
       "  </thead>\n",
       "  <tbody>\n",
       "    <tr>\n",
       "      <th>0</th>\n",
       "      <td>0</td>\n",
       "      <td>40</td>\n",
       "      <td>155</td>\n",
       "      <td>60</td>\n",
       "      <td>81.3</td>\n",
       "      <td>1.2</td>\n",
       "      <td>1.0</td>\n",
       "      <td>1.0</td>\n",
       "      <td>1.0</td>\n",
       "      <td>114.0</td>\n",
       "      <td>...</td>\n",
       "      <td>12.9</td>\n",
       "      <td>1.0</td>\n",
       "      <td>0.7</td>\n",
       "      <td>18.0</td>\n",
       "      <td>19.0</td>\n",
       "      <td>27.0</td>\n",
       "      <td>0</td>\n",
       "      <td>0</td>\n",
       "      <td>1</td>\n",
       "      <td>0</td>\n",
       "    </tr>\n",
       "    <tr>\n",
       "      <th>1</th>\n",
       "      <td>0</td>\n",
       "      <td>40</td>\n",
       "      <td>160</td>\n",
       "      <td>60</td>\n",
       "      <td>81.0</td>\n",
       "      <td>0.8</td>\n",
       "      <td>0.6</td>\n",
       "      <td>1.0</td>\n",
       "      <td>1.0</td>\n",
       "      <td>119.0</td>\n",
       "      <td>...</td>\n",
       "      <td>12.7</td>\n",
       "      <td>1.0</td>\n",
       "      <td>0.6</td>\n",
       "      <td>22.0</td>\n",
       "      <td>19.0</td>\n",
       "      <td>18.0</td>\n",
       "      <td>0</td>\n",
       "      <td>0</td>\n",
       "      <td>1</td>\n",
       "      <td>0</td>\n",
       "    </tr>\n",
       "    <tr>\n",
       "      <th>2</th>\n",
       "      <td>1</td>\n",
       "      <td>55</td>\n",
       "      <td>170</td>\n",
       "      <td>60</td>\n",
       "      <td>80.0</td>\n",
       "      <td>0.8</td>\n",
       "      <td>0.8</td>\n",
       "      <td>1.0</td>\n",
       "      <td>1.0</td>\n",
       "      <td>138.0</td>\n",
       "      <td>...</td>\n",
       "      <td>15.8</td>\n",
       "      <td>1.0</td>\n",
       "      <td>1.0</td>\n",
       "      <td>21.0</td>\n",
       "      <td>16.0</td>\n",
       "      <td>22.0</td>\n",
       "      <td>0</td>\n",
       "      <td>0</td>\n",
       "      <td>0</td>\n",
       "      <td>1</td>\n",
       "    </tr>\n",
       "    <tr>\n",
       "      <th>3</th>\n",
       "      <td>1</td>\n",
       "      <td>40</td>\n",
       "      <td>165</td>\n",
       "      <td>70</td>\n",
       "      <td>88.0</td>\n",
       "      <td>1.5</td>\n",
       "      <td>1.5</td>\n",
       "      <td>1.0</td>\n",
       "      <td>1.0</td>\n",
       "      <td>100.0</td>\n",
       "      <td>...</td>\n",
       "      <td>14.7</td>\n",
       "      <td>1.0</td>\n",
       "      <td>1.0</td>\n",
       "      <td>19.0</td>\n",
       "      <td>26.0</td>\n",
       "      <td>18.0</td>\n",
       "      <td>0</td>\n",
       "      <td>0</td>\n",
       "      <td>1</td>\n",
       "      <td>0</td>\n",
       "    </tr>\n",
       "    <tr>\n",
       "      <th>4</th>\n",
       "      <td>0</td>\n",
       "      <td>40</td>\n",
       "      <td>155</td>\n",
       "      <td>60</td>\n",
       "      <td>86.0</td>\n",
       "      <td>1.0</td>\n",
       "      <td>1.0</td>\n",
       "      <td>1.0</td>\n",
       "      <td>1.0</td>\n",
       "      <td>120.0</td>\n",
       "      <td>...</td>\n",
       "      <td>12.5</td>\n",
       "      <td>1.0</td>\n",
       "      <td>0.6</td>\n",
       "      <td>16.0</td>\n",
       "      <td>14.0</td>\n",
       "      <td>22.0</td>\n",
       "      <td>0</td>\n",
       "      <td>0</td>\n",
       "      <td>0</td>\n",
       "      <td>0</td>\n",
       "    </tr>\n",
       "  </tbody>\n",
       "</table>\n",
       "<p>5 rows × 26 columns</p>\n",
       "</div>"
      ],
      "text/plain": [
       "   gender  age  height(cm)  weight(kg)  waist(cm)  eyesight(left)  \\\n",
       "0       0   40         155          60       81.3             1.2   \n",
       "1       0   40         160          60       81.0             0.8   \n",
       "2       1   55         170          60       80.0             0.8   \n",
       "3       1   40         165          70       88.0             1.5   \n",
       "4       0   40         155          60       86.0             1.0   \n",
       "\n",
       "   eyesight(right)  hearing(left)  hearing(right)  systolic  ...  hemoglobin  \\\n",
       "0              1.0            1.0             1.0     114.0  ...        12.9   \n",
       "1              0.6            1.0             1.0     119.0  ...        12.7   \n",
       "2              0.8            1.0             1.0     138.0  ...        15.8   \n",
       "3              1.5            1.0             1.0     100.0  ...        14.7   \n",
       "4              1.0            1.0             1.0     120.0  ...        12.5   \n",
       "\n",
       "   Urine protein  serum creatinine   AST   ALT   Gtp  oral  dental caries  \\\n",
       "0            1.0               0.7  18.0  19.0  27.0     0              0   \n",
       "1            1.0               0.6  22.0  19.0  18.0     0              0   \n",
       "2            1.0               1.0  21.0  16.0  22.0     0              0   \n",
       "3            1.0               1.0  19.0  26.0  18.0     0              0   \n",
       "4            1.0               0.6  16.0  14.0  22.0     0              0   \n",
       "\n",
       "   tartar  smoking  \n",
       "0       1        0  \n",
       "1       1        0  \n",
       "2       0        1  \n",
       "3       1        0  \n",
       "4       0        0  \n",
       "\n",
       "[5 rows x 26 columns]"
      ]
     },
     "execution_count": 23,
     "metadata": {},
     "output_type": "execute_result"
    }
   ],
   "source": [
    "df.head()"
   ]
  },
  {
   "cell_type": "code",
   "execution_count": 24,
   "id": "a7b0fe1a",
   "metadata": {
    "execution": {
     "iopub.execute_input": "2022-05-11T16:17:51.059229Z",
     "iopub.status.busy": "2022-05-11T16:17:51.058789Z",
     "iopub.status.idle": "2022-05-11T16:17:51.581460Z",
     "shell.execute_reply": "2022-05-11T16:17:51.580567Z"
    },
    "papermill": {
     "duration": 0.580127,
     "end_time": "2022-05-11T16:17:51.584770",
     "exception": false,
     "start_time": "2022-05-11T16:17:51.004643",
     "status": "completed"
    },
    "tags": []
   },
   "outputs": [
    {
     "data": {
      "text/plain": [
       "<AxesSubplot:>"
      ]
     },
     "execution_count": 24,
     "metadata": {},
     "output_type": "execute_result"
    },
    {
     "data": {
      "image/png": "[encoded data removed]",
      "text/plain": [
       "<Figure size 432x288 with 2 Axes>"
      ]
     },
     "metadata": {
      "needs_background": "light"
     },
     "output_type": "display_data"
    }
   ],
   "source": [
    "sns.heatmap(df.corr())"
   ]
  },
  {
   "cell_type": "code",
   "execution_count": 25,
   "id": "a56ef94a",
   "metadata": {
    "execution": {
     "iopub.execute_input": "2022-05-11T16:17:51.696640Z",
     "iopub.status.busy": "2022-05-11T16:17:51.695842Z",
     "iopub.status.idle": "2022-05-11T16:17:51.730306Z",
     "shell.execute_reply": "2022-05-11T16:17:51.729320Z"
    },
    "papermill": {
     "duration": 0.092317,
     "end_time": "2022-05-11T16:17:51.732622",
     "exception": false,
     "start_time": "2022-05-11T16:17:51.640305",
     "status": "completed"
    },
    "tags": []
   },
   "outputs": [
    {
     "name": "stdout",
     "output_type": "stream",
     "text": [
      "X Train :  (41769, 25)\n",
      "X Test  :  (13923, 25)\n",
      "Y Train :  (41769,)\n",
      "Y Test  :  (13923,)\n"
     ]
    }
   ],
   "source": [
    "#Defined X value and y value , and split the data train\n",
    "X = df.drop(columns=\"smoking\")           \n",
    "y = df[\"smoking\"]    # y = quality\n",
    "\n",
    "# split the data train and test\n",
    "X_train, X_test, y_train, y_test = train_test_split(X, y, test_size=0.25, random_state=42)\n",
    "\n",
    "print(\"X Train : \", X_train.shape)\n",
    "print(\"X Test  : \", X_test.shape)\n",
    "print(\"Y Train : \", y_train.shape)\n",
    "print(\"Y Test  : \", y_test.shape)"
   ]
  },
  {
   "cell_type": "code",
   "execution_count": 26,
   "id": "b6ca7a27",
   "metadata": {
    "execution": {
     "iopub.execute_input": "2022-05-11T16:17:51.843854Z",
     "iopub.status.busy": "2022-05-11T16:17:51.843292Z",
     "iopub.status.idle": "2022-05-11T16:17:51.848481Z",
     "shell.execute_reply": "2022-05-11T16:17:51.847917Z"
    },
    "papermill": {
     "duration": 0.062646,
     "end_time": "2022-05-11T16:17:51.850293",
     "exception": false,
     "start_time": "2022-05-11T16:17:51.787647",
     "status": "completed"
    },
    "tags": []
   },
   "outputs": [],
   "source": [
    "#Defined object from library classification \n",
    "\n",
    "LR = LogisticRegression()\n",
    "DTR = DecisionTreeClassifier()\n",
    "RFR = RandomForestClassifier(n_estimators=150)\n",
    "KNR = KNeighborsClassifier()\n",
    "MLP = MLPClassifier()\n",
    "XGB = XGBClassifier()\n",
    "SVR=SVC()"
   ]
  },
  {
   "cell_type": "code",
   "execution_count": 27,
   "id": "e6db5436",
   "metadata": {
    "execution": {
     "iopub.execute_input": "2022-05-11T16:17:51.960687Z",
     "iopub.status.busy": "2022-05-11T16:17:51.959873Z",
     "iopub.status.idle": "2022-05-11T16:21:26.418682Z",
     "shell.execute_reply": "2022-05-11T16:21:26.417765Z"
    },
    "papermill": {
     "duration": 214.51769,
     "end_time": "2022-05-11T16:21:26.421568",
     "exception": false,
     "start_time": "2022-05-11T16:17:51.903878",
     "status": "completed"
    },
    "tags": []
   },
   "outputs": [
    {
     "name": "stderr",
     "output_type": "stream",
     "text": [
      "/opt/conda/lib/python3.7/site-packages/sklearn/linear_model/_logistic.py:818: ConvergenceWarning: lbfgs failed to converge (status=1):\n",
      "STOP: TOTAL NO. of ITERATIONS REACHED LIMIT.\n",
      "\n",
      "Increase the number of iterations (max_iter) or scale the data as shown in:\n",
      "    https://scikit-learn.org/stable/modules/preprocessing.html\n",
      "Please also refer to the documentation for alternative solver options:\n",
      "    https://scikit-learn.org/stable/modules/linear_model.html#logistic-regression\n",
      "  extra_warning_msg=_LOGISTIC_SOLVER_CONVERGENCE_MSG,\n"
     ]
    },
    {
     "name": "stdout",
     "output_type": "stream",
     "text": [
      "LogisticRegression() : 70.66724125547655\n",
      "DecisionTreeClassifier() : 78.26617826617827\n",
      "RandomForestClassifier(n_estimators=150) : 82.7695180636357\n",
      "KNeighborsClassifier() : 70.08547008547008\n",
      "MLPClassifier() : 74.55289808230985\n",
      "KNeighborsClassifier() : 70.08547008547008\n",
      "XGBClassifier(base_score=0.5, booster='gbtree', callbacks=None,\n",
      "              colsample_bylevel=1, colsample_bynode=1, colsample_bytree=1,\n",
      "              early_stopping_rounds=None, enable_categorical=False,\n",
      "              eval_metric=None, gamma=0, gpu_id=-1, grow_policy='depthwise',\n",
      "              importance_type=None, interaction_constraints='',\n",
      "              learning_rate=0.300000012, max_bin=256, max_cat_to_onehot=4,\n",
      "              max_delta_step=0, max_depth=6, max_leaves=0, min_child_weight=1,\n",
      "              missing=nan, monotone_constraints='()', n_estimators=100,\n",
      "              n_jobs=0, num_parallel_tree=1, predictor='auto', random_state=0,\n",
      "              reg_alpha=0, reg_lambda=1, ...) : 78.05788982259571\n",
      "SVC() : 72.54901960784314\n"
     ]
    }
   ],
   "source": [
    "# make for loop for classification \n",
    "\n",
    "li = [LR,DTR,RFR,KNR,MLP,KNR,XGB,SVR]\n",
    "d = {}\n",
    "for i in li:\n",
    "    i.fit(X_train,y_train)\n",
    "    ypred = i.predict(X_test)\n",
    "    print(i,\":\",accuracy_score(y_test,ypred)*100)\n",
    "    d.update({str(i):i.score(X_test,y_test)*100})"
   ]
  },
  {
   "cell_type": "code",
   "execution_count": 28,
   "id": "04afc115",
   "metadata": {
    "execution": {
     "iopub.execute_input": "2022-05-11T16:21:26.545498Z",
     "iopub.status.busy": "2022-05-11T16:21:26.544992Z",
     "iopub.status.idle": "2022-05-11T16:21:26.845747Z",
     "shell.execute_reply": "2022-05-11T16:21:26.844868Z"
    },
    "papermill": {
     "duration": 0.363669,
     "end_time": "2022-05-11T16:21:26.848365",
     "exception": false,
     "start_time": "2022-05-11T16:21:26.484696",
     "status": "completed"
    },
    "tags": []
   },
   "outputs": [
    {
     "data": {
      "image/png": "[encoded data removed]",
      "text/plain": [
       "<Figure size 2160x432 with 1 Axes>"
      ]
     },
     "metadata": {
      "needs_background": "light"
     },
     "output_type": "display_data"
    }
   ],
   "source": [
    "# make graph about Accuracy\n",
    "\n",
    "plt.figure(figsize=(30, 6))\n",
    "plt.title(\"Algorithm vs Accuracy\")\n",
    "plt.xlabel(\"Algorithm\")\n",
    "plt.ylabel(\"Accuracy\")\n",
    "plt.plot(d.keys(),d.values(),marker='o',color='red')\n",
    "plt.show()"
   ]
  },
  {
   "cell_type": "markdown",
   "id": "3c972f8d",
   "metadata": {
    "papermill": {
     "duration": 0.060884,
     "end_time": "2022-05-11T16:21:26.970814",
     "exception": false,
     "start_time": "2022-05-11T16:21:26.909930",
     "status": "completed"
    },
    "tags": []
   },
   "source": [
    "# RandomForestClassifier\n",
    "\n",
    "- This the best model , let's see the important columns"
   ]
  },
  {
   "cell_type": "code",
   "execution_count": 29,
   "id": "51e71e94",
   "metadata": {
    "execution": {
     "iopub.execute_input": "2022-05-11T16:21:27.096024Z",
     "iopub.status.busy": "2022-05-11T16:21:27.095095Z",
     "iopub.status.idle": "2022-05-11T16:21:38.266668Z",
     "shell.execute_reply": "2022-05-11T16:21:38.265669Z"
    },
    "papermill": {
     "duration": 11.23638,
     "end_time": "2022-05-11T16:21:38.269155",
     "exception": false,
     "start_time": "2022-05-11T16:21:27.032775",
     "status": "completed"
    },
    "tags": []
   },
   "outputs": [
    {
     "name": "stdout",
     "output_type": "stream",
     "text": [
      "Score the X-train with Y-train is :  1.0\n",
      "Score the X-test  with Y-test  is :  0.8265460030165912\n",
      "Accuracy Score : 82.65460030165912\n"
     ]
    }
   ],
   "source": [
    "rf = RandomForestClassifier(n_estimators=100)\n",
    "rf.fit(X_train, y_train)\n",
    "\n",
    "ypred = rf.predict(X_test)\n",
    "\n",
    "print(\"Score the X-train with Y-train is : \", rf.score(X_train,y_train))\n",
    "print(\"Score the X-test  with Y-test  is : \", rf.score(X_test,y_test))\n",
    "print(\"Accuracy Score :\",accuracy_score(y_test,ypred)*100)"
   ]
  },
  {
   "cell_type": "code",
   "execution_count": 30,
   "id": "f8cf6f91",
   "metadata": {
    "execution": {
     "iopub.execute_input": "2022-05-11T16:21:38.408560Z",
     "iopub.status.busy": "2022-05-11T16:21:38.408246Z",
     "iopub.status.idle": "2022-05-11T16:21:38.772906Z",
     "shell.execute_reply": "2022-05-11T16:21:38.771888Z"
    },
    "papermill": {
     "duration": 0.4343,
     "end_time": "2022-05-11T16:21:38.775162",
     "exception": false,
     "start_time": "2022-05-11T16:21:38.340862",
     "status": "completed"
    },
    "tags": []
   },
   "outputs": [
    {
     "data": {
      "text/plain": [
       "Text(0.5, 0, 'Feature Importance')"
      ]
     },
     "execution_count": 30,
     "metadata": {},
     "output_type": "execute_result"
    },
    {
     "data": {
      "image/png": "[encoded data removed]",
      "text/plain": [
       "<Figure size 432x288 with 1 Axes>"
      ]
     },
     "metadata": {
      "needs_background": "light"
     },
     "output_type": "display_data"
    }
   ],
   "source": [
    "#feature_importances\n",
    "\n",
    "sort = rf.feature_importances_.argsort()\n",
    "plt.barh(df.columns[sort], rf.feature_importances_[sort])\n",
    "plt.xlabel(\"Feature Importance\")"
   ]
  },
  {
   "cell_type": "markdown",
   "id": "f55e767a",
   "metadata": {
    "papermill": {
     "duration": 0.062891,
     "end_time": "2022-05-11T16:21:38.902782",
     "exception": false,
     "start_time": "2022-05-11T16:21:38.839891",
     "status": "completed"
    },
    "tags": []
   },
   "source": [
    "# Model Selection Results 😃😃😃\n",
    "\n",
    "- Logistic Regression = 70.6 %\n",
    "- Decision Tree Classifier = 77.7 %\n",
    "- Random Forest Classifier = 82.6 %\n",
    "- K Neighbors Classifier = 70 %\n",
    "- MLP Classifier = 75 %\n",
    "- K Neighbors Classifier = 70 %\n",
    "- XGB Classifier = 78 %\n",
    "- SVC = 72.5 %\n",
    "\n",
    "\n",
    "\n",
    "### So , the best model Random Forest Classifier\n",
    "\n",
    "### You can change parameter in the library , maybe get better accuracy\n",
    "\n",
    "\n",
    "# Notes 😃😃😃😃\n",
    "\n",
    "- Thank for reading my analysis and my classification. 😃😃😃😃\n",
    "\n",
    "- If you any questions or advice me please write in the comment . ❤️❤️❤️❤️\n",
    "\n",
    "- If anyone has a model with a higher percentage, please tell me 🤝🤝🤝, it`s will support me .\n",
    "\n",
    "\n",
    "# Vote ❤️😃\n",
    "- If you liked my work upvote me ,\n",
    "\n",
    "\n",
    "# The End 🤝🎉🤝🎉"
   ]
  }
 ],
 "metadata": {
  "kernelspec": {
   "display_name": "Python 3",
   "language": "python",
   "name": "python3"
  },
  "language_info": {
   "codemirror_mode": {
    "name": "ipython",
    "version": 3
   },
   "file_extension": ".py",
   "mimetype": "text/x-python",
   "name": "python",
   "nbconvert_exporter": "python",
   "pygments_lexer": "ipython3",
   "version": "3.7.12"
  },
  "papermill": {
   "default_parameters": {},
   "duration": 246.358047,
   "end_time": "2022-05-11T16:21:39.889371",
   "environment_variables": {},
   "exception": null,
   "input_path": "__notebook__.ipynb",
   "output_path": "__notebook__.ipynb",
   "parameters": {},
   "start_time": "2022-05-11T16:17:33.531324",
   "version": "2.3.4"
  }
 },
 "nbformat": 4,
 "nbformat_minor": 5
}
